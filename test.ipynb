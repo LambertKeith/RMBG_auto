{
 "cells": [
  {
   "cell_type": "code",
   "execution_count": null,
   "metadata": {},
   "outputs": [],
   "source": [
    "import os\n",
    "import shutil\n",
    "from rmbg.config.get_config import read_yaml_file, brand_folder\n",
    "from rmbg.server.db_server import MySQLTaskLocker\n",
    "#from rmbg.utils import jpg2png_str, get_sub_path\n",
    "from rmbg import models as rmbg_models\n",
    "from rmbg.utils import get_sub_path\n",
    "from tk_app import app"
   ]
  },
  {
   "cell_type": "code",
   "execution_count": null,
   "metadata": {},
   "outputs": [],
   "source": [
    "from rmbg.server.app_server import AppTBGServerCaller\n",
    "from rmbg.server.rmbg_server import TransparentBGServerCaller\n",
    "\n",
    "app_tbg = AppTBGServerCaller()\n",
    "app_tbg.creating_threads()"
   ]
  },
  {
   "cell_type": "code",
   "execution_count": null,
   "metadata": {},
   "outputs": [],
   "source": [
    "import os\n",
    "\n",
    "# 获取当前工作目录\n",
    "current_dir = os.getcwd()\n",
    "\n",
    "# 获取当前工作目录的上一级目录路径\n",
    "parent_dir = os.path.dirname(current_dir)\n",
    "\n",
    "print(\"上一级目录路径:\", parent_dir)\n"
   ]
  },
  {
   "cell_type": "code",
   "execution_count": null,
   "metadata": {},
   "outputs": [],
   "source": [
    "parent_dir = os.path.dirname(os.getcwd())\n",
    "parent_dir"
   ]
  },
  {
   "cell_type": "code",
   "execution_count": null,
   "metadata": {},
   "outputs": [],
   "source": [
    "from rmbg.utils.tk_app_utils import RmbgServerManager\n",
    "\n",
    "\n",
    "rsm = RmbgServerManager()"
   ]
  },
  {
   "cell_type": "code",
   "execution_count": null,
   "metadata": {},
   "outputs": [],
   "source": [
    "import socket\n",
    "def get_local_ip():\n",
    "    # 创建一个UDP socket\n",
    "    s = socket.socket(socket.AF_INET, socket.SOCK_DGRAM)\n",
    "    try:\n",
    "        # 连接一个外部地址（这里我们使用Google的DNS服务器）\n",
    "        s.connect(('8.8.8.8', 80))\n",
    "        # 获取本地IP地址\n",
    "        local_ip = s.getsockname()[0]\n",
    "    finally:\n",
    "        s.close()\n",
    "    return local_ip"
   ]
  },
  {
   "cell_type": "code",
   "execution_count": null,
   "metadata": {},
   "outputs": [],
   "source": [
    "import os\n",
    "import subprocess\n",
    "import socket\n",
    "import time\n",
    "\n",
    "def check_port(host, port):\n",
    "    with socket.socket(socket.AF_INET, socket.SOCK_STREAM) as s:\n",
    "        return s.connect_ex((host, port)) == 0\n",
    "\n",
    "def activate_virtualenv(server_path):\n",
    "    venv_path = os.path.join(server_path, '.venv')\n",
    "    activate_script = os.path.join(venv_path, 'Scripts', 'Activate.ps1')\n",
    "\n",
    "    if os.path.exists(venv_path):\n",
    "        subprocess.run(['powershell', '-Command', activate_script])\n",
    "\n",
    "        # 启动uvicorn\n",
    "        uvicorn_command = f\"uvicorn app:app --host 0.0.0.0 --port 8000 --workers 3\"\n",
    "        subprocess.Popen(['powershell', '-Command', uvicorn_command])\n",
    "\n",
    "        # 等待uvicorn服务启动\n",
    "        server_ip = get_local_ip()\n",
    "        \"\"\" while not check_port(server_ip, 8000):\n",
    "            time.sleep(1) \"\"\"\n",
    "\n",
    "        print(\"Uvicorn server started successfully!\")\n",
    "    else:\n",
    "        print(\".venv directory not found.\")\n",
    "\n",
    "# 示例用法\n",
    "server_path = r\"d:\\workspace\\Current project\\transparent-background\"\n",
    "activate_virtualenv(server_path)\n",
    "app_tbg.run_transparentBG()"
   ]
  },
  {
   "cell_type": "code",
   "execution_count": null,
   "metadata": {},
   "outputs": [],
   "source": [
    "def check_port(host, port):\n",
    "    with socket.socket(socket.AF_INET, socket.SOCK_STREAM) as s:\n",
    "        return s.connect_ex((host, port)) == 0\n",
    "# 等待uvicorn服务启动\n",
    "server_ip = get_local_ip()\n",
    "while not check_port(server_ip, 8000):\n",
    "    time.sleep(1)\n",
    "    print('2222')\n",
    "print(\"yes\")"
   ]
  },
  {
   "cell_type": "code",
   "execution_count": null,
   "metadata": {},
   "outputs": [],
   "source": [
    "import os\n",
    "import subprocess\n",
    "\n",
    "def activate_virtualenv_and_run_command(server_path, command):\n",
    "    venv_path = os.path.join(server_path, '.venv')\n",
    "    activate_script = os.path.join(venv_path, 'Scripts', 'activate')\n",
    "\n",
    "    if os.path.exists(venv_path):\n",
    "        # 激活虚拟环境\n",
    "        activate_cmd = f\"\\\"{activate_script}\\\" && {command}\"\n",
    "        subprocess.run(activate_cmd, shell=True)\n",
    "    else:\n",
    "        print(\".venv directory not found.\")\n",
    "\n",
    "# 示例用法\n",
    "server_path = r\"d:\\workspace\\Current project\\transparent-background\"\n",
    "command_to_run = \"uvicorn app:app --host 0.0.0.0 --port 8000 --workers 3\"\n",
    "activate_virtualenv_and_run_command(server_path, command_to_run)\n"
   ]
  },
  {
   "cell_type": "code",
   "execution_count": null,
   "metadata": {},
   "outputs": [],
   "source": [
    "from rmbg.server.app_server import AppTBGServerCaller\n",
    "app_tbg = AppTBGServerCaller(r\"\\\\192.168.10.229\\图片\\烟斗男鞋\\抠图\\test\")\n",
    "app_tbg.run_transparentBG()"
   ]
  },
  {
   "cell_type": "code",
   "execution_count": null,
   "metadata": {},
   "outputs": [],
   "source": [
    "from rmbg.server.app_server import AppTBGServerCaller\n",
    "a1 = AppTBGServerCaller()\n",
    "a2 = AppTBGServerCaller()"
   ]
  },
  {
   "cell_type": "code",
   "execution_count": null,
   "metadata": {},
   "outputs": [],
   "source": [
    "\n",
    "def calculate_completion_rate(total_pic_count, operated_pic_count):\n",
    "    if total_pic_count == 0:\n",
    "        return 0       \n",
    "    return int(operated_pic_count / total_pic_count * 1.0 * 100)\n",
    "\n",
    "x = calculate_completion_rate(0, 5)\n",
    "x"
   ]
  },
  {
   "cell_type": "code",
   "execution_count": null,
   "metadata": {
    "metadata": {}
   },
   "outputs": [],
   "source": [
    "from tk_app import app\n",
    "import tkinter as tk\n",
    "root = tk.Tk()\n",
    "rmbg_app = app.TkinterApp(root)\n",
    "rmbg_app.start()"
   ]
  },
  {
   "cell_type": "code",
   "execution_count": 1,
   "metadata": {},
   "outputs": [
    {
     "name": "stdout",
     "output_type": "stream",
     "text": [
      "read yaml encoding=utf-8\n",
      "read yaml encoding=utf-8\n",
      "read yaml encoding=utf-8\n",
      "read yaml encoding=utf-8\n",
      "read yaml encoding=utf-8\n",
      "read yaml encoding=utf-8\n"
     ]
    }
   ],
   "source": [
    "from rmbg.server import db_server\n",
    "task_lock = db_server.TaskLock(picture_in_processing=\"5657\", operation_device=\"333\", image_size=7.49)\n",
    "db = db_server.MySQLTaskLocker()\n",
    "db.insert_data(task_lock)"
   ]
  },
  {
   "cell_type": "code",
   "execution_count": 2,
   "metadata": {},
   "outputs": [],
   "source": [
    "db.timeout_self_deleting()"
   ]
  },
  {
   "cell_type": "code",
   "execution_count": 1,
   "metadata": {},
   "outputs": [
    {
     "name": "stdout",
     "output_type": "stream",
     "text": [
      "Image saved with quality=81\n"
     ]
    }
   ],
   "source": [
    "from PIL import Image\n",
    "import math\n",
    "\n",
    "def calculate_quality(image_size, max_size=7000*7000, min_quality=30, max_quality=95):\n",
    "    \"\"\"\n",
    "    根据图像尺寸计算压缩质量，使用反向对数函数\n",
    "    :param image_size: 图像的尺寸（宽度*高度）\n",
    "    :param max_size: 最大尺寸（宽度*高度），默认值为1000*1000\n",
    "    :param min_quality: 最小质量，默认值为30\n",
    "    :param max_quality: 最大质量，默认值为95\n",
    "    :return: 压缩质量\n",
    "    \"\"\"\n",
    "    if image_size > max_size:\n",
    "        quality = min_quality\n",
    "    else:\n",
    "        scale = image_size / max_size\n",
    "        quality = max_quality - (max_quality - min_quality) * math.log10(scale + 1)\n",
    "        quality = min(quality, max_quality)\n",
    "        quality = max(quality, min_quality)\n",
    "    return int(quality)\n",
    "\n",
    "def compress_image(input_image_path, output_image_path):\n",
    "    with Image.open(input_image_path) as img:\n",
    "        # 获取图像的尺寸（宽度*高度）\n",
    "        image_size = img.width * img.height\n",
    "        # 计算压缩质量\n",
    "        quality = calculate_quality(image_size)\n",
    "        # 检查图像格式\n",
    "        img_format = img.format\n",
    "        if img_format in ['JPEG', 'JPG', 'PNG']:\n",
    "            # 压缩并保存图像\n",
    "            img.save(output_image_path, format=img_format, quality=quality, optimize=True)\n",
    "            print(f\"Image saved with quality={quality}\")\n",
    "        else:\n",
    "            print(\"Unsupported image format\")\n",
    "\n",
    "# 示例使用\n",
    "input_path = 'in_test.JPG'  # 输入图像的路径\n",
    "output_path = 'out_test.JPG'  # 输出压缩后图像的路径\n",
    "compress_image(input_path, output_path)\n"
   ]
  },
  {
   "cell_type": "code",
   "execution_count": 3,
   "metadata": {},
   "outputs": [
    {
     "name": "stdout",
     "output_type": "stream",
     "text": [
      "\\\\抠图\\\\其他（没有自己文件夹的放这里）\n",
      "\\\\抠图\\\\孙洁\n",
      "\\\\抠图\\\\小笠\n",
      "\\\\抠图\\\\已完成\n",
      "\\\\抠图\\\\李强\n",
      "\\\\抠图\\\\海燕\n",
      "\\\\抠图\\\\琼瑶\n",
      "\\\\抠图\\\\飞飞\n"
     ]
    }
   ],
   "source": [
    "import os\n",
    "\n",
    "def list_first_level_dirs(directory):\n",
    "    try:\n",
    "        # 获取指定目录下的所有文件和文件夹\n",
    "        entries = os.listdir(directory)\n",
    "        # 过滤并打印出所有的一级文件夹\n",
    "        first_level_dirs = [entry for entry in entries if os.path.isdir(os.path.join(directory, entry))]\n",
    "        for dir_name in first_level_dirs:\n",
    "            print(fr\"\\\\抠图\\\\{dir_name}\")\n",
    "    except Exception as e:\n",
    "        print(f\"Error: {e}\")\n",
    "\n",
    "# 替换为你的目标目录路径\n",
    "target_directory = r\"\\\\192.168.10.229\\图片\\抠图\"\n",
    "list_first_level_dirs(target_directory)\n"
   ]
  }
 ],
 "metadata": {
  "kernelspec": {
   "display_name": ".venv",
   "language": "python",
   "name": "python3"
  },
  "language_info": {
   "codemirror_mode": {
    "name": "ipython",
    "version": 3
   },
   "file_extension": ".py",
   "mimetype": "text/x-python",
   "name": "python",
   "nbconvert_exporter": "python",
   "pygments_lexer": "ipython3",
   "version": "3.10.6"
  }
 },
 "nbformat": 4,
 "nbformat_minor": 2
}
