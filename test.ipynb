{
 "cells": [
  {
   "cell_type": "code",
   "execution_count": 1,
   "metadata": {},
   "outputs": [
    {
     "name": "stdout",
     "output_type": "stream",
     "text": [
      "read yaml encoding=utf-8\n"
     ]
    }
   ],
   "source": [
    "import os\n",
    "import shutil\n",
    "from rmbg.config.get_config import read_yaml_file, brand_folder\n",
    "from rmbg.server.db_server import MySQLTaskLocker\n",
    "#from rmbg.utils import jpg2png_str, get_sub_path\n",
    "from rmbg import models as rmbg_models\n",
    "from rmbg.utils import get_sub_path\n",
    "from tk_app import app"
   ]
  },
  {
   "cell_type": "code",
   "execution_count": 3,
   "metadata": {},
   "outputs": [],
   "source": [
    "import tkinter as tk\n",
    "root = tk.Tk()\n",
    "rmbg_app = app.TkinterApp(root)\n",
    "rmbg_app.start()"
   ]
  },
  {
   "cell_type": "code",
   "execution_count": null,
   "metadata": {},
   "outputs": [],
   "source": []
  }
 ],
 "metadata": {
  "kernelspec": {
   "display_name": ".venv",
   "language": "python",
   "name": "python3"
  },
  "language_info": {
   "codemirror_mode": {
    "name": "ipython",
    "version": 3
   },
   "file_extension": ".py",
   "mimetype": "text/x-python",
   "name": "python",
   "nbconvert_exporter": "python",
   "pygments_lexer": "ipython3",
   "version": "3.10.6"
  }
 },
 "nbformat": 4,
 "nbformat_minor": 2
}
