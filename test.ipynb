{
 "cells": [
  {
   "cell_type": "code",
   "execution_count": null,
   "metadata": {},
   "outputs": [],
   "source": [
    "import os\n",
    "import shutil\n",
    "from rmbg.config.get_config import read_yaml_file, brand_folder\n",
    "from rmbg.server.db_server import MySQLTaskLocker\n",
    "#from rmbg.utils import jpg2png_str, get_sub_path\n",
    "from rmbg import models as rmbg_models\n",
    "from rmbg.utils import get_sub_path\n",
    "from tk_app import app"
   ]
  },
  {
   "cell_type": "code",
   "execution_count": null,
   "metadata": {},
   "outputs": [],
   "source": [
    "from rmbg.server.app_server import AppTBGServerCaller\n",
    "from rmbg.server.rmbg_server import TransparentBGServerCaller\n",
    "\n",
    "app_tbg = AppTBGServerCaller()\n",
    "app_tbg.creating_threads()"
   ]
  },
  {
   "cell_type": "code",
   "execution_count": null,
   "metadata": {},
   "outputs": [],
   "source": [
    "import os\n",
    "\n",
    "# 获取当前工作目录\n",
    "current_dir = os.getcwd()\n",
    "\n",
    "# 获取当前工作目录的上一级目录路径\n",
    "parent_dir = os.path.dirname(current_dir)\n",
    "\n",
    "print(\"上一级目录路径:\", parent_dir)\n"
   ]
  },
  {
   "cell_type": "code",
   "execution_count": null,
   "metadata": {},
   "outputs": [],
   "source": [
    "parent_dir = os.path.dirname(os.getcwd())\n",
    "parent_dir"
   ]
  },
  {
   "cell_type": "code",
   "execution_count": null,
   "metadata": {},
   "outputs": [],
   "source": [
    "from rmbg.utils.tk_app_utils import RmbgServerManager\n",
    "\n",
    "\n",
    "rsm = RmbgServerManager()"
   ]
  },
  {
   "cell_type": "code",
   "execution_count": null,
   "metadata": {},
   "outputs": [],
   "source": [
    "import socket\n",
    "def get_local_ip():\n",
    "    # 创建一个UDP socket\n",
    "    s = socket.socket(socket.AF_INET, socket.SOCK_DGRAM)\n",
    "    try:\n",
    "        # 连接一个外部地址（这里我们使用Google的DNS服务器）\n",
    "        s.connect(('8.8.8.8', 80))\n",
    "        # 获取本地IP地址\n",
    "        local_ip = s.getsockname()[0]\n",
    "    finally:\n",
    "        s.close()\n",
    "    return local_ip"
   ]
  },
  {
   "cell_type": "code",
   "execution_count": null,
   "metadata": {},
   "outputs": [],
   "source": [
    "import os\n",
    "import subprocess\n",
    "import socket\n",
    "import time\n",
    "\n",
    "def check_port(host, port):\n",
    "    with socket.socket(socket.AF_INET, socket.SOCK_STREAM) as s:\n",
    "        return s.connect_ex((host, port)) == 0\n",
    "\n",
    "def activate_virtualenv(server_path):\n",
    "    venv_path = os.path.join(server_path, '.venv')\n",
    "    activate_script = os.path.join(venv_path, 'Scripts', 'Activate.ps1')\n",
    "\n",
    "    if os.path.exists(venv_path):\n",
    "        subprocess.run(['powershell', '-Command', activate_script])\n",
    "\n",
    "        # 启动uvicorn\n",
    "        uvicorn_command = f\"uvicorn app:app --host 0.0.0.0 --port 8000 --workers 3\"\n",
    "        subprocess.Popen(['powershell', '-Command', uvicorn_command])\n",
    "\n",
    "        # 等待uvicorn服务启动\n",
    "        server_ip = get_local_ip()\n",
    "        \"\"\" while not check_port(server_ip, 8000):\n",
    "            time.sleep(1) \"\"\"\n",
    "\n",
    "        print(\"Uvicorn server started successfully!\")\n",
    "    else:\n",
    "        print(\".venv directory not found.\")\n",
    "\n",
    "# 示例用法\n",
    "server_path = r\"d:\\workspace\\Current project\\transparent-background\"\n",
    "activate_virtualenv(server_path)\n",
    "app_tbg.run_transparentBG()"
   ]
  },
  {
   "cell_type": "code",
   "execution_count": null,
   "metadata": {},
   "outputs": [],
   "source": [
    "def check_port(host, port):\n",
    "    with socket.socket(socket.AF_INET, socket.SOCK_STREAM) as s:\n",
    "        return s.connect_ex((host, port)) == 0\n",
    "# 等待uvicorn服务启动\n",
    "server_ip = get_local_ip()\n",
    "while not check_port(server_ip, 8000):\n",
    "    time.sleep(1)\n",
    "    print('2222')\n",
    "print(\"yes\")"
   ]
  },
  {
   "cell_type": "code",
   "execution_count": null,
   "metadata": {},
   "outputs": [],
   "source": [
    "import os\n",
    "import subprocess\n",
    "\n",
    "def activate_virtualenv_and_run_command(server_path, command):\n",
    "    venv_path = os.path.join(server_path, '.venv')\n",
    "    activate_script = os.path.join(venv_path, 'Scripts', 'activate')\n",
    "\n",
    "    if os.path.exists(venv_path):\n",
    "        # 激活虚拟环境\n",
    "        activate_cmd = f\"\\\"{activate_script}\\\" && {command}\"\n",
    "        subprocess.run(activate_cmd, shell=True)\n",
    "    else:\n",
    "        print(\".venv directory not found.\")\n",
    "\n",
    "# 示例用法\n",
    "server_path = r\"d:\\workspace\\Current project\\transparent-background\"\n",
    "command_to_run = \"uvicorn app:app --host 0.0.0.0 --port 8000 --workers 3\"\n",
    "activate_virtualenv_and_run_command(server_path, command_to_run)\n"
   ]
  },
  {
   "cell_type": "code",
   "execution_count": null,
   "metadata": {},
   "outputs": [],
   "source": [
    "from rmbg.server.app_server import AppTBGServerCaller\n",
    "app_tbg = AppTBGServerCaller(r\"\\\\192.168.10.229\\图片\\烟斗男鞋\\抠图\\test\")\n",
    "app_tbg.run_transparentBG()"
   ]
  },
  {
   "cell_type": "code",
   "execution_count": null,
   "metadata": {},
   "outputs": [],
   "source": [
    "from rmbg.server.app_server import AppTBGServerCaller\n",
    "a1 = AppTBGServerCaller()\n",
    "a2 = AppTBGServerCaller()"
   ]
  },
  {
   "cell_type": "code",
   "execution_count": 1,
   "metadata": {
    "metadata": {}
   },
   "outputs": [
    {
     "name": "stdout",
     "output_type": "stream",
     "text": [
      "read yaml encoding=utf-8\n",
      "//192.168.10.229/图片/烟斗男鞋/抠图/test\n",
      "创建server_caller\n",
      "['\\\\伊伴女鞋\\\\未完成\\\\待抠', '\\\\烟斗男鞋\\\\抠图', '\\\\千百度男鞋\\\\休闲\\\\未完成\\\\待抠', '\\\\千百度女鞋\\\\未完成\\\\待抠']\n",
      "Error: \\\\192.168.10.229\\图片\\千百度男鞋\\休闲\\未完成\\待抠 is not a valid directory or does not exist.\n",
      "开始抠图\n",
      "2024-05-04 00:37:04.684  wrapper(memory_lock_modifier.py:23) 正在抠图 Image //192.168.10.229/图片/烟斗男鞋/抠图/test\\D-SY_02532.jpg \n",
      "2024-05-04 00:37:23.197  process_image_local(rmbg_server.py:145) Image //192.168.10.229/图片/烟斗男鞋/抠图/test\\D-SY_02532.jpg 操作完成.\n",
      "2024-05-04 00:37:23.219  wrapper(memory_lock_modifier.py:23) 正在抠图 Image //192.168.10.229/图片/烟斗男鞋/抠图/test\\D-SY_02533.jpg \n",
      "2024-05-04 00:37:40.172  process_image_local(rmbg_server.py:145) Image //192.168.10.229/图片/烟斗男鞋/抠图/test\\D-SY_02533.jpg 操作完成.\n",
      "2024-05-04 00:37:40.187  wrapper(memory_lock_modifier.py:23) 正在抠图 Image //192.168.10.229/图片/烟斗男鞋/抠图/test\\D-SY_02534.jpg \n",
      "2024-05-04 00:38:00.891  process_image_local(rmbg_server.py:145) Image //192.168.10.229/图片/烟斗男鞋/抠图/test\\D-SY_02534.jpg 操作完成.\n",
      "2024-05-04 00:38:00.905  wrapper(memory_lock_modifier.py:23) 正在抠图 Image //192.168.10.229/图片/烟斗男鞋/抠图/test\\D-SY_02535.jpg \n",
      "2024-05-04 00:38:22.053  process_image_local(rmbg_server.py:145) Image //192.168.10.229/图片/烟斗男鞋/抠图/test\\D-SY_02535.jpg 操作完成.\n",
      "2024-05-04 00:38:22.065  wrapper(memory_lock_modifier.py:23) 正在抠图 Image //192.168.10.229/图片/烟斗男鞋/抠图/test\\D-SY_02537.jpg \n",
      "2024-05-04 00:38:40.104  process_image_local(rmbg_server.py:145) Image //192.168.10.229/图片/烟斗男鞋/抠图/test\\D-SY_02537.jpg 操作完成.\n",
      "2024-05-04 00:38:40.126  wrapper(memory_lock_modifier.py:23) 正在抠图 Image //192.168.10.229/图片/烟斗男鞋/抠图/test\\D-SY_02543.jpg \n",
      "2024-05-04 00:38:58.741  process_image_local(rmbg_server.py:145) Image //192.168.10.229/图片/烟斗男鞋/抠图/test\\D-SY_02543.jpg 操作完成.\n",
      "2024-05-04 00:38:58.757  wrapper(memory_lock_modifier.py:23) 正在抠图 Image //192.168.10.229/图片/烟斗男鞋/抠图/test\\D-SY_02544.jpg \n",
      "2024-05-04 00:39:16.690  process_image_local(rmbg_server.py:145) Image //192.168.10.229/图片/烟斗男鞋/抠图/test\\D-SY_02544.jpg 操作完成.\n",
      "2024-05-04 00:39:16.715  wrapper(memory_lock_modifier.py:23) 正在抠图 Image //192.168.10.229/图片/烟斗男鞋/抠图/test\\D-SY_02545.jpg \n",
      "2024-05-04 00:39:33.446  process_image_local(rmbg_server.py:145) Image //192.168.10.229/图片/烟斗男鞋/抠图/test\\D-SY_02545.jpg 操作完成.\n",
      "2024-05-04 00:39:33.462  wrapper(memory_lock_modifier.py:23) 正在抠图 Image //192.168.10.229/图片/烟斗男鞋/抠图/test\\D-SY_02548.jpg \n",
      "2024-05-04 00:40:03.972  process_image_local(rmbg_server.py:145) Image //192.168.10.229/图片/烟斗男鞋/抠图/test\\D-SY_02548.jpg 操作完成.\n",
      "2024-05-04 00:40:03.989  wrapper(memory_lock_modifier.py:23) 正在抠图 Image //192.168.10.229/图片/烟斗男鞋/抠图/test\\D-SY_03697.jpg \n",
      "2024-05-04 00:40:28.427  process_image_local(rmbg_server.py:145) Image //192.168.10.229/图片/烟斗男鞋/抠图/test\\D-SY_03697.jpg 操作完成.\n",
      "2024-05-04 00:40:28.440  wrapper(memory_lock_modifier.py:23) 正在抠图 Image //192.168.10.229/图片/烟斗男鞋/抠图/test\\D-SY_03699.jpg \n",
      "2024-05-04 00:40:52.768  process_image_local(rmbg_server.py:145) Image //192.168.10.229/图片/烟斗男鞋/抠图/test\\D-SY_03699.jpg 操作完成.\n",
      "2024-05-04 00:40:52.775  operation_check_Loop(rmbg_server.py:96) 开始检查\n",
      "2024-05-04 00:40:52.776  operation_check_Loop(rmbg_server.py:101) 当前文件夹下所有jpg操作完毕\n"
     ]
    }
   ],
   "source": [
    "from tk_app import app\n",
    "import tkinter as tk\n",
    "root = tk.Tk()\n",
    "rmbg_app = app.TkinterApp(root)\n",
    "rmbg_app.start()"
   ]
  }
 ],
 "metadata": {
  "kernelspec": {
   "display_name": ".venv",
   "language": "python",
   "name": "python3"
  },
  "language_info": {
   "codemirror_mode": {
    "name": "ipython",
    "version": 3
   },
   "file_extension": ".py",
   "mimetype": "text/x-python",
   "name": "python",
   "nbconvert_exporter": "python",
   "pygments_lexer": "ipython3",
   "version": "3.10.6"
  }
 },
 "nbformat": 4,
 "nbformat_minor": 2
}
