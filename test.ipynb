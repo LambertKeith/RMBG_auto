{
 "cells": [
  {
   "cell_type": "code",
   "execution_count": 1,
   "metadata": {},
   "outputs": [
    {
     "name": "stdout",
     "output_type": "stream",
     "text": [
      "read yaml encoding=utf-8\n"
     ]
    }
   ],
   "source": [
    "import os\n",
    "import shutil\n",
    "from rmbg.config.get_config import read_yaml_file, brand_folder\n",
    "from rmbg.server.db_server import MySQLTaskLocker\n",
    "#from rmbg.utils import jpg2png_str, get_sub_path\n",
    "from rmbg import models as rmbg_models\n",
    "from rmbg.utils import get_sub_path\n",
    "from tk_app import app"
   ]
  },
  {
   "cell_type": "code",
   "execution_count": null,
   "metadata": {},
   "outputs": [],
   "source": [
    "from tk_app import app\n",
    "import tkinter as tk\n",
    "root = tk.Tk()\n",
    "rmbg_app = app.TkinterApp(root)\n",
    "rmbg_app.start()"
   ]
  },
  {
   "cell_type": "code",
   "execution_count": null,
   "metadata": {},
   "outputs": [],
   "source": [
    "from rmbg.server.app_server import AppTBGServerCaller\n",
    "from rmbg.server.rmbg_server import TransparentBGServerCaller\n",
    "\n",
    "app_tbg = AppTBGServerCaller()\n",
    "app_tbg.creating_threads()"
   ]
  },
  {
   "cell_type": "code",
   "execution_count": null,
   "metadata": {},
   "outputs": [],
   "source": [
    "import os\n",
    "\n",
    "# 获取当前工作目录\n",
    "current_dir = os.getcwd()\n",
    "\n",
    "# 获取当前工作目录的上一级目录路径\n",
    "parent_dir = os.path.dirname(current_dir)\n",
    "\n",
    "print(\"上一级目录路径:\", parent_dir)\n"
   ]
  },
  {
   "cell_type": "code",
   "execution_count": null,
   "metadata": {},
   "outputs": [],
   "source": [
    "parent_dir = os.path.dirname(os.getcwd())\n",
    "parent_dir"
   ]
  },
  {
   "cell_type": "code",
   "execution_count": null,
   "metadata": {},
   "outputs": [],
   "source": [
    "from rmbg.utils.tk_app_utils import RmbgServerManager\n",
    "\n",
    "\n",
    "rsm = RmbgServerManager()"
   ]
  },
  {
   "cell_type": "code",
   "execution_count": null,
   "metadata": {},
   "outputs": [],
   "source": [
    "import socket\n",
    "def get_local_ip():\n",
    "    # 创建一个UDP socket\n",
    "    s = socket.socket(socket.AF_INET, socket.SOCK_DGRAM)\n",
    "    try:\n",
    "        # 连接一个外部地址（这里我们使用Google的DNS服务器）\n",
    "        s.connect(('8.8.8.8', 80))\n",
    "        # 获取本地IP地址\n",
    "        local_ip = s.getsockname()[0]\n",
    "    finally:\n",
    "        s.close()\n",
    "    return local_ip"
   ]
  },
  {
   "cell_type": "code",
   "execution_count": null,
   "metadata": {},
   "outputs": [],
   "source": [
    "import os\n",
    "import subprocess\n",
    "import socket\n",
    "import time\n",
    "\n",
    "def check_port(host, port):\n",
    "    with socket.socket(socket.AF_INET, socket.SOCK_STREAM) as s:\n",
    "        return s.connect_ex((host, port)) == 0\n",
    "\n",
    "def activate_virtualenv(server_path):\n",
    "    venv_path = os.path.join(server_path, '.venv')\n",
    "    activate_script = os.path.join(venv_path, 'Scripts', 'Activate.ps1')\n",
    "\n",
    "    if os.path.exists(venv_path):\n",
    "        subprocess.run(['powershell', '-Command', activate_script])\n",
    "\n",
    "        # 启动uvicorn\n",
    "        uvicorn_command = f\"uvicorn app:app --host 0.0.0.0 --port 8000 --workers 3\"\n",
    "        subprocess.Popen(['powershell', '-Command', uvicorn_command])\n",
    "\n",
    "        # 等待uvicorn服务启动\n",
    "        server_ip = get_local_ip()\n",
    "        \"\"\" while not check_port(server_ip, 8000):\n",
    "            time.sleep(1) \"\"\"\n",
    "\n",
    "        print(\"Uvicorn server started successfully!\")\n",
    "    else:\n",
    "        print(\".venv directory not found.\")\n",
    "\n",
    "# 示例用法\n",
    "server_path = r\"d:\\workspace\\Current project\\transparent-background\"\n",
    "activate_virtualenv(server_path)\n",
    "app_tbg.run_transparentBG()"
   ]
  },
  {
   "cell_type": "code",
   "execution_count": 1,
   "metadata": {},
   "outputs": [
    {
     "ename": "NameError",
     "evalue": "name 'get_local_ip' is not defined",
     "output_type": "error",
     "traceback": [
      "\u001b[1;31m---------------------------------------------------------------------------\u001b[0m",
      "\u001b[1;31mNameError\u001b[0m                                 Traceback (most recent call last)",
      "Cell \u001b[1;32mIn[1], line 5\u001b[0m\n\u001b[0;32m      3\u001b[0m         \u001b[38;5;28;01mreturn\u001b[39;00m s\u001b[38;5;241m.\u001b[39mconnect_ex((host, port)) \u001b[38;5;241m==\u001b[39m \u001b[38;5;241m0\u001b[39m\n\u001b[0;32m      4\u001b[0m \u001b[38;5;66;03m# 等待uvicorn服务启动\u001b[39;00m\n\u001b[1;32m----> 5\u001b[0m server_ip \u001b[38;5;241m=\u001b[39m \u001b[43mget_local_ip\u001b[49m()\n\u001b[0;32m      6\u001b[0m \u001b[38;5;28;01mwhile\u001b[39;00m \u001b[38;5;129;01mnot\u001b[39;00m check_port(server_ip, \u001b[38;5;241m8000\u001b[39m):\n\u001b[0;32m      7\u001b[0m     time\u001b[38;5;241m.\u001b[39msleep(\u001b[38;5;241m1\u001b[39m)\n",
      "\u001b[1;31mNameError\u001b[0m: name 'get_local_ip' is not defined"
     ]
    }
   ],
   "source": [
    "def check_port(host, port):\n",
    "    with socket.socket(socket.AF_INET, socket.SOCK_STREAM) as s:\n",
    "        return s.connect_ex((host, port)) == 0\n",
    "# 等待uvicorn服务启动\n",
    "server_ip = get_local_ip()\n",
    "while not check_port(server_ip, 8000):\n",
    "    time.sleep(1)\n",
    "    print('2222')\n",
    "print(\"yes\")"
   ]
  },
  {
   "cell_type": "code",
   "execution_count": null,
   "metadata": {},
   "outputs": [],
   "source": [
    "import os\n",
    "import subprocess\n",
    "\n",
    "def activate_virtualenv_and_run_command(server_path, command):\n",
    "    venv_path = os.path.join(server_path, '.venv')\n",
    "    activate_script = os.path.join(venv_path, 'Scripts', 'activate')\n",
    "\n",
    "    if os.path.exists(venv_path):\n",
    "        # 激活虚拟环境\n",
    "        activate_cmd = f\"\\\"{activate_script}\\\" && {command}\"\n",
    "        subprocess.run(activate_cmd, shell=True)\n",
    "    else:\n",
    "        print(\".venv directory not found.\")\n",
    "\n",
    "# 示例用法\n",
    "server_path = r\"d:\\workspace\\Current project\\transparent-background\"\n",
    "command_to_run = \"uvicorn app:app --host 0.0.0.0 --port 8000 --workers 3\"\n",
    "activate_virtualenv_and_run_command(server_path, command_to_run)\n"
   ]
  },
  {
   "cell_type": "code",
   "execution_count": 13,
   "metadata": {},
   "outputs": [
    {
     "name": "stdout",
     "output_type": "stream",
     "text": [
      "['\\\\烟斗男鞋\\\\抠图']\n",
      "Data inserted successfully.\n",
      "2024-05-02 17:28:49.768  wrapper(memory_lock_modifier.py:23) 正在抠图 Image \\\\192.168.10.229\\图片\\烟斗男鞋\\抠图\\test\\D-SY_02532.jpg \n",
      "2024-05-02 17:29:06.192  process_image_local(rmbg_server.py:144) Image \\\\192.168.10.229\\图片\\烟斗男鞋\\抠图\\test\\D-SY_02532.jpg 操作完成.\n",
      "Data deleted successfully.\n",
      "Data inserted successfully.\n",
      "2024-05-02 17:29:06.202  wrapper(memory_lock_modifier.py:23) 正在抠图 Image \\\\192.168.10.229\\图片\\烟斗男鞋\\抠图\\test\\D-SY_02533.jpg \n",
      "2024-05-02 17:29:22.355  process_image_local(rmbg_server.py:144) Image \\\\192.168.10.229\\图片\\烟斗男鞋\\抠图\\test\\D-SY_02533.jpg 操作完成.\n",
      "Data deleted successfully.\n",
      "Data inserted successfully.\n",
      "2024-05-02 17:29:22.384  wrapper(memory_lock_modifier.py:23) 正在抠图 Image \\\\192.168.10.229\\图片\\烟斗男鞋\\抠图\\test\\D-SY_02534.jpg \n",
      "2024-05-02 17:29:41.641  process_image_local(rmbg_server.py:144) Image \\\\192.168.10.229\\图片\\烟斗男鞋\\抠图\\test\\D-SY_02534.jpg 操作完成.\n",
      "Data deleted successfully.\n",
      "Data inserted successfully.\n",
      "2024-05-02 17:29:41.650  wrapper(memory_lock_modifier.py:23) 正在抠图 Image \\\\192.168.10.229\\图片\\烟斗男鞋\\抠图\\test\\D-SY_02535.jpg \n",
      "2024-05-02 17:30:01.427  process_image_local(rmbg_server.py:144) Image \\\\192.168.10.229\\图片\\烟斗男鞋\\抠图\\test\\D-SY_02535.jpg 操作完成.\n",
      "Data deleted successfully.\n",
      "Data inserted successfully.\n",
      "2024-05-02 17:30:01.436  wrapper(memory_lock_modifier.py:23) 正在抠图 Image \\\\192.168.10.229\\图片\\烟斗男鞋\\抠图\\test\\D-SY_02537.jpg \n",
      "2024-05-02 17:30:18.270  process_image_local(rmbg_server.py:144) Image \\\\192.168.10.229\\图片\\烟斗男鞋\\抠图\\test\\D-SY_02537.jpg 操作完成.\n",
      "Data deleted successfully.\n",
      "Data inserted successfully.\n",
      "2024-05-02 17:30:18.280  wrapper(memory_lock_modifier.py:23) 正在抠图 Image \\\\192.168.10.229\\图片\\烟斗男鞋\\抠图\\test\\D-SY_02543.jpg \n",
      "2024-05-02 17:30:35.890  process_image_local(rmbg_server.py:144) Image \\\\192.168.10.229\\图片\\烟斗男鞋\\抠图\\test\\D-SY_02543.jpg 操作完成.\n",
      "Data deleted successfully.\n",
      "Data inserted successfully.\n",
      "2024-05-02 17:30:35.901  wrapper(memory_lock_modifier.py:23) 正在抠图 Image \\\\192.168.10.229\\图片\\烟斗男鞋\\抠图\\test\\D-SY_02544.jpg \n",
      "2024-05-02 17:30:53.003  process_image_local(rmbg_server.py:144) Image \\\\192.168.10.229\\图片\\烟斗男鞋\\抠图\\test\\D-SY_02544.jpg 操作完成.\n",
      "Data deleted successfully.\n",
      "Data inserted successfully.\n",
      "2024-05-02 17:30:53.014  wrapper(memory_lock_modifier.py:23) 正在抠图 Image \\\\192.168.10.229\\图片\\烟斗男鞋\\抠图\\test\\D-SY_02545.jpg \n",
      "2024-05-02 17:31:08.799  process_image_local(rmbg_server.py:144) Image \\\\192.168.10.229\\图片\\烟斗男鞋\\抠图\\test\\D-SY_02545.jpg 操作完成.\n",
      "Data deleted successfully.\n",
      "Data inserted successfully.\n",
      "2024-05-02 17:31:08.809  wrapper(memory_lock_modifier.py:23) 正在抠图 Image \\\\192.168.10.229\\图片\\烟斗男鞋\\抠图\\test\\D-SY_02548.jpg \n",
      "2024-05-02 17:31:37.450  process_image_local(rmbg_server.py:144) Image \\\\192.168.10.229\\图片\\烟斗男鞋\\抠图\\test\\D-SY_02548.jpg 操作完成.\n",
      "Data deleted successfully.\n",
      "Data inserted successfully.\n",
      "2024-05-02 17:31:37.467  wrapper(memory_lock_modifier.py:23) 正在抠图 Image \\\\192.168.10.229\\图片\\烟斗男鞋\\抠图\\test\\D-SY_03697.jpg \n",
      "2024-05-02 17:32:00.560  process_image_local(rmbg_server.py:144) Image \\\\192.168.10.229\\图片\\烟斗男鞋\\抠图\\test\\D-SY_03697.jpg 操作完成.\n",
      "Data deleted successfully.\n",
      "Data inserted successfully.\n",
      "2024-05-02 17:32:00.570  wrapper(memory_lock_modifier.py:23) 正在抠图 Image \\\\192.168.10.229\\图片\\烟斗男鞋\\抠图\\test\\D-SY_03699.jpg \n",
      "2024-05-02 17:32:23.638  process_image_local(rmbg_server.py:144) Image \\\\192.168.10.229\\图片\\烟斗男鞋\\抠图\\test\\D-SY_03699.jpg 操作完成.\n",
      "Data deleted successfully.\n",
      "开始检查\n",
      "当前文件夹下所有jpg操作完毕\n"
     ]
    }
   ],
   "source": [
    "from rmbg.server.app_server import AppTBGServerCaller\n",
    "app_tbg = AppTBGServerCaller(r\"\\\\192.168.10.229\\图片\\烟斗男鞋\\抠图\\test\")\n",
    "app_tbg.run_transparentBG()"
   ]
  }
 ],
 "metadata": {
  "kernelspec": {
   "display_name": ".venv",
   "language": "python",
   "name": "python3"
  },
  "language_info": {
   "codemirror_mode": {
    "name": "ipython",
    "version": 3
   },
   "file_extension": ".py",
   "mimetype": "text/x-python",
   "name": "python",
   "nbconvert_exporter": "python",
   "pygments_lexer": "ipython3",
   "version": "3.10.6"
  }
 },
 "nbformat": 4,
 "nbformat_minor": 2
}
